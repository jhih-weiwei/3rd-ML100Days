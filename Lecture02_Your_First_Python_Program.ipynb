{
  "nbformat": 4,
  "nbformat_minor": 0,
  "metadata": {
    "colab": {
      "provenance": [],
      "toc_visible": true,
      "include_colab_link": true
    },
    "kernelspec": {
      "name": "python3",
      "display_name": "Python 3"
    },
    "language_info": {
      "name": "python"
    }
  },
  "cells": [
    {
      "cell_type": "markdown",
      "metadata": {
        "id": "view-in-github",
        "colab_type": "text"
      },
      "source": [
        "<a href=\"https://colab.research.google.com/github/jhih-weiwei/3rd-ML100Days/blob/master/Lecture02_Your_First_Python_Program.ipynb\" target=\"_parent\"><img src=\"https://colab.research.google.com/assets/colab-badge.svg\" alt=\"Open In Colab\"/></a>"
      ]
    },
    {
      "cell_type": "markdown",
      "metadata": {
        "id": "R8KdELj55wB2"
      },
      "source": [
        "# 0 About This Colab Notebook\n",
        "\n",
        "1. This Colab is designed for the course \"**Computer Programming in Python**\" instructed by Tse-Yu Lin.\n",
        "\n",
        "2. Note that each time you enter this Colab from the link provided by the instructor, TAs or other people.\n",
        "Please create a copy to your own Google Drive by clicking **File > Save a copy in Drive**. After clicking, a new tab page will be opened.\n",
        "\n",
        "3. Colab consists of code and text cells. We can only put Python syntaxes in **Code cell** while **text cells** can be written using either texts or **Markdown**. Markdown is a plain text formatting syntax aimed at making writing for the internet easier. For more detail about Markdown. To learn Markdwon, please refere the following links:\n",
        "  * Chinese：https://markdown.tw/\n",
        "  * English：https://daringfireball.net/projects/markdown/syntax\n",
        "  這種textcell是拿來打文字內容ㄉ，看起來有點像可以讓我當"
      ]
    },
    {
      "cell_type": "markdown",
      "metadata": {
        "id": "zyegg21D09Qt"
      },
      "source": [
        "___\n",
        "This is a text cell\n",
        "___"
      ]
    },
    {
      "cell_type": "code",
      "metadata": {
        "id": "MXOb5rmt09Yl"
      },
      "source": [
        "# This is a code cell"
      ],
      "execution_count": null,
      "outputs": []
    },
    {
      "cell_type": "markdown",
      "metadata": {
        "id": "eqZBwBwu5oqE"
      },
      "source": [
        "# 1 Prologue"
      ]
    },
    {
      "cell_type": "markdown",
      "metadata": {
        "id": "yp0o9fdozyAY"
      },
      "source": [
        "Note that to execue code cell, one can enter **Ctrl+Enter** or **Shift+Enter** or just **click the play button** in the left of each cell."
      ]
    },
    {
      "cell_type": "markdown",
      "metadata": {
        "id": "7OGeXvUgzywq"
      },
      "source": [
        "## a. Your first print program\n",
        "\n",
        "Here, we introduce our first program with the help of function ``print()``"
      ]
    },
    {
      "cell_type": "code",
      "metadata": {
        "id": "LcF-8mKOzyGq"
      },
      "source": [
        "#來跟著打打看，反正這邊是一個網頁上的電腦（不是我的電腦，那bug當機是他的電腦嗎（？））\n",
        "#簡單來講，我覺得看起來跟之前的Snakify有點像（？）\n",
        "#好吧，內容都是老師打的，老師好強ww\n",
        "#這個井字是中之的概念嗎（X）"
      ],
      "execution_count": null,
      "outputs": []
    },
    {
      "cell_type": "markdown",
      "metadata": {
        "id": "al65Aiw61Ktv"
      },
      "source": [
        "``print`` is a useful function in Python to print out the **value** of varialbes.\n",
        "\n",
        "In above program, ``\"Hello, Python!\"`` is a string type which collects some characters."
      ]
    },
    {
      "cell_type": "code",
      "metadata": {
        "id": "j-bBqAb65ibW"
      },
      "source": [],
      "execution_count": null,
      "outputs": []
    },
    {
      "cell_type": "markdown",
      "source": [
        "In order to explain your code or to make the code more readable, we need to add **comments**.\n",
        "\n",
        "Comments starts with a ``#`` (hash mark), and Python will ignore them. There are two common ways we write our code comments:\n",
        "\n",
        "a. Comments are ofter placed in th first line to indicate what you aim to do below:\n",
        "```python\n",
        "# Print() function is called to print \"Hello, world!\"\n",
        "print(\"Hello, world!\")\n",
        "```\n",
        "b. Sometimes, comments can be placed at the end of a line:\n",
        "```python\n",
        "print(\"Hello, world!\")  # \"Hello, world!\" will be printed\n",
        "```"
      ],
      "metadata": {
        "id": "OQv7x9H7uuEl"
      }
    },
    {
      "cell_type": "markdown",
      "metadata": {
        "id": "a6qNOAyr1n0I"
      },
      "source": [
        "## b. Define a new variable by assigning value."
      ]
    },
    {
      "cell_type": "markdown",
      "metadata": {
        "id": "Gc9XHusH2CjL"
      },
      "source": [
        "Now, we define a new variable for the string ``\"Hello, Python!\"`` to shorten our program."
      ]
    },
    {
      "cell_type": "code",
      "metadata": {
        "id": "pCrAZ5lrzyI5"
      },
      "source": [
        "# Define a str-type variable, named some_text\n",
        "\n",
        "\n",
        "# Print some_text\n"
      ],
      "execution_count": null,
      "outputs": []
    },
    {
      "cell_type": "markdown",
      "metadata": {
        "id": "iI7-jMWe4Pxs"
      },
      "source": [
        "When you put ``some_text`` in code cell and execute it, it also print out ``Hello, Python!``.\n",
        "\n",
        "However, this is not an elegant way to check the value of a variable."
      ]
    },
    {
      "cell_type": "code",
      "metadata": {
        "id": "YbI5k3rx4ezW"
      },
      "source": [
        "# When execting a varialbe, we can check how it looks like\n"
      ],
      "execution_count": null,
      "outputs": []
    },
    {
      "cell_type": "markdown",
      "metadata": {
        "id": "4NAap_KB5Ft5"
      },
      "source": [
        "We can print multiple variables at the same time"
      ]
    },
    {
      "cell_type": "code",
      "metadata": {
        "id": "Yk0inoks5V22"
      },
      "source": [
        "# Define meaningful variables\n",
        "\n",
        "\n",
        "\n",
        "# Print() function accepts more variables\n"
      ],
      "execution_count": null,
      "outputs": []
    },
    {
      "cell_type": "markdown",
      "metadata": {
        "id": "k-KQAC8X2XuB"
      },
      "source": [
        "One basic property of a Python variable (e.g., ``some_text``) is the **type**.\n",
        "\n",
        "To check the type of a Python variable, we use the built-in function ``type()``"
      ]
    },
    {
      "cell_type": "code",
      "metadata": {
        "id": "Y8_E1KQqzyLB"
      },
      "source": [
        "# We can check the type of a variable with type() function\n"
      ],
      "execution_count": null,
      "outputs": []
    },
    {
      "cell_type": "markdown",
      "metadata": {
        "id": "DCDUT6fo2qS4"
      },
      "source": [
        "## c. User-defined function"
      ]
    },
    {
      "cell_type": "markdown",
      "metadata": {
        "id": "m29kTrfP2tOr"
      },
      "source": [
        "To define a function in Python, we consider the following format:\n",
        "```python\n",
        "def FUNCTION_NAME(INPUT_1, INPUT_2, ..., INPUT_N):\n",
        "  # Do something\n",
        "```\n",
        "\n",
        "For example, we define a function to print out a variable TWICE as follows"
      ]
    },
    {
      "cell_type": "code",
      "metadata": {
        "id": "7zgu5UWh31Fa"
      },
      "source": [
        "# Define a function named print_twice to print a variable twice\n",
        "\n",
        "\n"
      ],
      "execution_count": null,
      "outputs": []
    },
    {
      "cell_type": "code",
      "metadata": {
        "id": "8wo5Dlk731bn"
      },
      "source": [
        "# Call print_twice() function on some_text variable\n"
      ],
      "execution_count": null,
      "outputs": []
    },
    {
      "cell_type": "markdown",
      "metadata": {
        "id": "ezz3CiMW30PW"
      },
      "source": [
        "Since ``print`` and ``type`` are used in Python frequently, we could define a function to execute ``print`` and ``type`` at the same time."
      ]
    },
    {
      "cell_type": "code",
      "metadata": {
        "id": "hfa_Jqik3y5U"
      },
      "source": [
        "# Define check function (version 1) to check the value and the type of a variable\n",
        "\n",
        "\n"
      ],
      "execution_count": null,
      "outputs": []
    },
    {
      "cell_type": "code",
      "metadata": {
        "id": "KN1xVk_P3y7i"
      },
      "source": [
        "# Define check_1() function on some_text variable\n"
      ],
      "execution_count": null,
      "outputs": []
    },
    {
      "cell_type": "markdown",
      "metadata": {
        "id": "ksDgr18tBkPH"
      },
      "source": [
        "The value of ``some_text`` is printed via ``check_1()`` function while type of ``some_text`` is not showm.\n",
        "\n",
        "In fact, the output of ``type(x)`` is a string object which indicates the type of variable ``x``.\n",
        "\n",
        "So, we need to print ``type(x)`` in the function ``check_1()`` also."
      ]
    },
    {
      "cell_type": "code",
      "metadata": {
        "id": "JtoU6zM64i8r"
      },
      "source": [
        "# Define check function (version 2) to check the value and the type of a variable\n",
        "\n",
        "\n"
      ],
      "execution_count": null,
      "outputs": []
    },
    {
      "cell_type": "code",
      "metadata": {
        "id": "JtsO4S8C4jDg"
      },
      "source": [
        "# Define check_2() function on some_text variable\n"
      ],
      "execution_count": null,
      "outputs": []
    },
    {
      "cell_type": "markdown",
      "metadata": {
        "id": "RPanDwwYBS2A"
      },
      "source": [
        "The result is great, we can check the value and type of ``some_text`` now.\n",
        "\n",
        "However, the output of ``check_2()`` is unclear.\n",
        "\n",
        "So, we add some explaination to indicate what kind of information are outputed."
      ]
    },
    {
      "cell_type": "code",
      "metadata": {
        "id": "SfgkGfpz48z4"
      },
      "source": [
        "# Define check function (version 3) to check the value and the type of a variable\n",
        "\n",
        "\n"
      ],
      "execution_count": null,
      "outputs": []
    },
    {
      "cell_type": "code",
      "metadata": {
        "id": "CIoCt0zT4859"
      },
      "source": [
        "# Define check_3() function on some_text variable\n"
      ],
      "execution_count": null,
      "outputs": []
    },
    {
      "cell_type": "markdown",
      "metadata": {
        "id": "2AK1FUYTBGmx"
      },
      "source": [
        "Below, we provide a way to modify ``check_3()``."
      ]
    },
    {
      "cell_type": "markdown",
      "metadata": {
        "id": "Odm1OeqX53GD"
      },
      "source": [
        "## d. f-string is all you need"
      ]
    },
    {
      "cell_type": "markdown",
      "metadata": {
        "id": "xU10ubAS6JDl"
      },
      "source": [
        "If we want to print out some text with varaible inside it. We can use Formatted String Literals (f-string).\n"
      ]
    },
    {
      "cell_type": "code",
      "metadata": {
        "id": "jbQXlTqT53Ls"
      },
      "source": [
        "# Define two variables name and age\n",
        "\n",
        "\n",
        "\n",
        "# Print a sentence to introduce myself along with my age\n"
      ],
      "execution_count": null,
      "outputs": []
    },
    {
      "cell_type": "markdown",
      "metadata": {
        "id": "dX6j72Fb68-q"
      },
      "source": [
        "To use f-string, begin a string with ``f`` in front of your string. Inside f-string, variables should written inside ``{`` and ``}``"
      ]
    },
    {
      "cell_type": "code",
      "metadata": {
        "id": "CItOOH3461vt"
      },
      "source": [
        "# Define two variables name and age\n",
        "\n",
        "\n",
        "\n",
        "# Define a variable to combine variables in a string\n",
        "\n"
      ],
      "execution_count": null,
      "outputs": []
    },
    {
      "cell_type": "code",
      "metadata": {
        "id": "lvRNcVlW61yR"
      },
      "source": [
        "# Define two variables name and age\n",
        "\n",
        "\n",
        "\n",
        "# Simpler form of f-string\n"
      ],
      "execution_count": null,
      "outputs": []
    },
    {
      "cell_type": "markdown",
      "metadata": {
        "id": "1UKxx7im7nJW"
      },
      "source": [
        "Now, we go back to our ``check`` function."
      ]
    },
    {
      "cell_type": "code",
      "metadata": {
        "id": "awSAyN0l7p0u"
      },
      "source": [
        "# Define check function (final version) to check the value and the type of a variable\n",
        "\n",
        "\n"
      ],
      "execution_count": null,
      "outputs": []
    },
    {
      "cell_type": "code",
      "metadata": {
        "id": "1Li1PBg_7p2i"
      },
      "source": [
        "# Define check_3() function on some_text variable\n"
      ],
      "execution_count": null,
      "outputs": []
    },
    {
      "cell_type": "markdown",
      "metadata": {
        "id": "KeftPnaC25FR"
      },
      "source": [
        "# 2 Melody"
      ]
    },
    {
      "cell_type": "markdown",
      "metadata": {
        "id": "5x8UuNgwD9Eu"
      },
      "source": [
        "## a. Import packages\n",
        "\n",
        "In this Colab, we will show you how to plot figures using Python.\n",
        "\n",
        "Usually, I will divided Colab into few blocks as follows:\n",
        "1. Load packages\n",
        "2. Define some functions for convenience\n",
        "3. Do my work"
      ]
    },
    {
      "cell_type": "markdown",
      "metadata": {
        "id": "m4I3yoHW8YY9"
      },
      "source": [
        "We can import packages into **current** runtime enviroment in the following ways\n",
        "1. We Takes all\n",
        "\n",
        "```python\n",
        "import PACKAGE\n",
        "```\n",
        "This imports PACKAGE as a Python object, we can call object **PACKAGE** after this.\n",
        "\n",
        "2. Only Takes one\n",
        "\n",
        "If we only need one specific functions or subpackages from PACKAGE, we use the following way\n",
        "```python\n",
        "from PACKAGE import SUBPACKAGE\n",
        "```\n",
        "In this way, only SUBPACKAGE will be imported as a Python object.\n",
        "\n",
        "3. Alias\n",
        "\n",
        "Sometimes, the frequency of usage of some packages is too high (e.g., Numpy). Threrefore, we can identify it with alias when we import it.\n",
        "```python\n",
        "import PACKAGE as ALIAS\n",
        "```\n",
        "or\n",
        "```python\n",
        "from PACKAGE import SUBPACKAGE as ALIAS\n",
        "```\n",
        "\n",
        "To write a comment in Python, simply put the hash mark # before your desired comment:\n",
        "```python\n",
        "# Load packages\n",
        "import numpy as np\n",
        "```"
      ]
    },
    {
      "cell_type": "code",
      "metadata": {
        "id": "su5yZZBH8Yl4"
      },
      "source": [
        "# Load packages\n",
        "\n",
        "\n"
      ],
      "execution_count": null,
      "outputs": []
    },
    {
      "cell_type": "markdown",
      "metadata": {
        "id": "rUYXbLk58YwX"
      },
      "source": [
        "## b. Plot graph of a function"
      ]
    },
    {
      "cell_type": "markdown",
      "metadata": {
        "id": "IEbqDU6KD7Wt"
      },
      "source": [
        "Here, we show how to plot the square function\n",
        "$$\n",
        "y = x^2 - 1\n",
        "$$\n",
        "on interval $[-2, 3]$."
      ]
    },
    {
      "cell_type": "markdown",
      "metadata": {
        "id": "anvDARDPELz-"
      },
      "source": [
        "First of all, we divide the interval $[-2, 3]$ equally."
      ]
    },
    {
      "cell_type": "code",
      "metadata": {
        "id": "9CD2xgYP8Y1X"
      },
      "source": [
        "# Deine a variable x_values with np.linspace() function\n"
      ],
      "execution_count": null,
      "outputs": []
    },
    {
      "cell_type": "code",
      "source": [],
      "metadata": {
        "id": "nz1S6dvfXxjq"
      },
      "execution_count": null,
      "outputs": []
    },
    {
      "cell_type": "code",
      "metadata": {
        "id": "VIlRJFr3E8zP"
      },
      "source": [
        "# Check it!\n",
        "\n",
        "\n"
      ],
      "execution_count": null,
      "outputs": []
    },
    {
      "cell_type": "markdown",
      "metadata": {
        "id": "JYYFVssZFGE2"
      },
      "source": [
        "Next, we compute the value of $x^2$ for each points in ``x_values``"
      ]
    },
    {
      "cell_type": "code",
      "metadata": {
        "id": "E9yCzwCf8Y_T"
      },
      "source": [
        "# Deine a variable y_values by computing y = x**2 - 1\n"
      ],
      "execution_count": null,
      "outputs": []
    },
    {
      "cell_type": "code",
      "metadata": {
        "id": "SHbZlWuuE9o_"
      },
      "source": [
        "# Check it!\n"
      ],
      "execution_count": null,
      "outputs": []
    },
    {
      "cell_type": "markdown",
      "metadata": {
        "id": "ruNx5YOrFE8K"
      },
      "source": [
        "Then, we plot the function $y=x^2-1$ for each pair of ``x_values`` and `y_values` using ``plt.plot(x_values, y_values)``."
      ]
    },
    {
      "cell_type": "code",
      "metadata": {
        "id": "MY4J5rWXFTyp"
      },
      "source": [
        "# Plot the graph of the function y = x**2 -1 on domain [-2, 3]\n"
      ],
      "execution_count": null,
      "outputs": []
    },
    {
      "cell_type": "markdown",
      "metadata": {
        "id": "jSexGXVuSwCh"
      },
      "source": [
        "There are various settings, such as color line, sticks of x- and y-axes, we can adjust to make our figure better.\n",
        "\n",
        "For more detail about ``plt.plot()``, please check https://matplotlib.org/stable/api/_as_gen/matplotlib.pyplot.plot.html"
      ]
    },
    {
      "cell_type": "code",
      "metadata": {
        "id": "3fE4eBfHTDf8"
      },
      "source": [
        "# Complete code\n",
        "\n",
        "\n",
        "\n"
      ],
      "execution_count": null,
      "outputs": []
    },
    {
      "cell_type": "markdown",
      "metadata": {
        "id": "HzRxhDbhSJYl"
      },
      "source": [
        "# 3 Function for What We Have Done"
      ]
    },
    {
      "cell_type": "code",
      "metadata": {
        "id": "dyuEM2z5SJe2"
      },
      "source": [
        "# Define a function, named plot_square, to plot square function y=x^2-1 on [a, b] interval using n points\n",
        "\n",
        "\n",
        "\n"
      ],
      "execution_count": null,
      "outputs": []
    },
    {
      "cell_type": "code",
      "metadata": {
        "id": "I60ThCAeSgVz"
      },
      "source": [
        "# Call plot_square() with a=-2, b=3, n=50\n"
      ],
      "execution_count": null,
      "outputs": []
    },
    {
      "cell_type": "markdown",
      "metadata": {
        "id": "MqTf2PwT891V"
      },
      "source": [
        "# 4 Some Questions"
      ]
    },
    {
      "cell_type": "markdown",
      "metadata": {
        "id": "0_BTlq7FFg_s"
      },
      "source": [
        "### Q1. What is the difference between graphs if we use more or fewer points from [-2, 3]?\n",
        "\n",
        "(e.g., plot with 5 points instead of 50)"
      ]
    },
    {
      "cell_type": "code",
      "metadata": {
        "id": "GFQvT6hzFTwq"
      },
      "source": [],
      "execution_count": null,
      "outputs": []
    },
    {
      "cell_type": "markdown",
      "metadata": {
        "id": "i_7joFTwHff1"
      },
      "source": [
        "### Q2. How to plot different graphs of functions in the same figure?\n",
        "\n",
        "(e.g., plot square function $y=x^2-1$ and the cubic function $y=x^3$ on $[-2, 3]$ on the same figure)"
      ]
    },
    {
      "cell_type": "code",
      "metadata": {
        "id": "BJm3nV2MFD5c"
      },
      "source": [],
      "execution_count": null,
      "outputs": []
    },
    {
      "cell_type": "markdown",
      "metadata": {
        "id": "GpMKy-HfHmnI"
      },
      "source": [
        "### Q3. How your graph be changed if the number of points $n$ is replaced by $n-1$?"
      ]
    },
    {
      "cell_type": "code",
      "metadata": {
        "id": "V8zgHt4LHuWd"
      },
      "source": [],
      "execution_count": null,
      "outputs": []
    }
  ]
}